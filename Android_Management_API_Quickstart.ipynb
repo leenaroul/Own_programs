{
  "nbformat": 4,
  "nbformat_minor": 0,
  "metadata": {
    "colab": {
      "name": "Android Management API - Quickstart",
      "private_outputs": true,
      "provenance": [],
      "collapsed_sections": [
        "lbI8y3v1G6OM"
      ],
      "include_colab_link": true
    },
    "kernelspec": {
      "display_name": "Python 3",
      "name": "python3"
    }
  },
  "cells": [
    {
      "cell_type": "markdown",
      "metadata": {
        "id": "view-in-github",
        "colab_type": "text"
      },
      "source": [
        "<a href=\"https://colab.research.google.com/github/leenaroul/Own_programs/blob/main/Android_Management_API_Quickstart.ipynb\" target=\"_parent\"><img src=\"https://colab.research.google.com/assets/colab-badge.svg\" alt=\"Open In Colab\"/></a>"
      ]
    },
    {
      "cell_type": "markdown",
      "metadata": {
        "id": "1P4RSGItHHMP"
      },
      "source": [
        " #python assistant 1 day2"
      ]
    },
    {
      "cell_type": "code",
      "metadata": {
        "id": "QbzHHj9sD30S"
      },
      "source": [
        " L=[ \"a\", 7,4,6, 0]"
      ],
      "execution_count": null,
      "outputs": []
    },
    {
      "cell_type": "code",
      "metadata": {
        "id": "qykOeeFkDaO-"
      },
      "source": [
        "del List[0]"
      ],
      "execution_count": null,
      "outputs": []
    },
    {
      "cell_type": "code",
      "metadata": {
        "id": "4tILK6iQEQTn"
      },
      "source": [
        "print (List)"
      ],
      "execution_count": null,
      "outputs": []
    },
    {
      "cell_type": "code",
      "metadata": {
        "id": "HJeJ6f6vEZZB"
      },
      "source": [
        "sum(List)"
      ],
      "execution_count": null,
      "outputs": []
    },
    {
      "cell_type": "code",
      "metadata": {
        "id": "75N8D0rEEf0R"
      },
      "source": [
        "List.append(9)\n",
        "print(List)"
      ],
      "execution_count": null,
      "outputs": []
    },
    {
      "cell_type": "code",
      "metadata": {
        "id": "hLCQ4tMCE-dj"
      },
      "source": [
        " len(List)"
      ],
      "execution_count": null,
      "outputs": []
    },
    {
      "cell_type": "code",
      "metadata": {
        "id": "lMBOy4wUFRH1"
      },
      "source": [
        " List.count(9)"
      ],
      "execution_count": null,
      "outputs": []
    },
    {
      "cell_type": "markdown",
      "metadata": {
        "id": "vYbJh57EHCG1"
      },
      "source": [
        "  #python assistant 2 day2"
      ]
    },
    {
      "cell_type": "code",
      "metadata": {
        "id": "RtwN29cfHaiX"
      },
      "source": [
        "Dis={\"Name\":\"lee\", \"roll\":49}"
      ],
      "execution_count": null,
      "outputs": []
    },
    {
      "cell_type": "code",
      "metadata": {
        "id": "L1df19HDIEaf"
      },
      "source": [
        "print(Dis)"
      ],
      "execution_count": null,
      "outputs": []
    },
    {
      "cell_type": "code",
      "metadata": {
        "id": "m6IxF8meIK0z"
      },
      "source": [
        "print(len(Dis))"
      ],
      "execution_count": null,
      "outputs": []
    },
    {
      "cell_type": "code",
      "metadata": {
        "id": "g7A7YTMnJo_x"
      },
      "source": [
        " print(sorted(Dis))"
      ],
      "execution_count": null,
      "outputs": []
    },
    {
      "cell_type": "code",
      "metadata": {
        "id": "fLGrzroDJx3Y"
      },
      "source": [
        " print(all(Dis))"
      ],
      "execution_count": null,
      "outputs": []
    },
    {
      "cell_type": "code",
      "metadata": {
        "id": "hesK0fo3K2pn"
      },
      "source": [
        " print('Name: ', Dis.get('Name'))"
      ],
      "execution_count": null,
      "outputs": []
    },
    {
      "cell_type": "code",
      "metadata": {
        "id": "k6fDnhXqLB2H"
      },
      "source": [
        "Dis.keys()"
      ],
      "execution_count": null,
      "outputs": []
    }
  ]
}