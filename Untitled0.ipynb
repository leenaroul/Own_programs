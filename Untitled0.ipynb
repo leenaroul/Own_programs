{
  "nbformat": 4,
  "nbformat_minor": 0,
  "metadata": {
    "colab": {
      "name": "Untitled0.ipynb",
      "provenance": [],
      "authorship_tag": "ABX9TyMToWbMKjGEOngP3WZsP4pP",
      "include_colab_link": true
    },
    "kernelspec": {
      "name": "python3",
      "display_name": "Python 3"
    }
  },
  "cells": [
    {
      "cell_type": "markdown",
      "metadata": {
        "id": "view-in-github",
        "colab_type": "text"
      },
      "source": [
        "<a href=\"https://colab.research.google.com/github/leenaroul/Own_programs/blob/main/Untitled0.ipynb\" target=\"_parent\"><img src=\"https://colab.research.google.com/assets/colab-badge.svg\" alt=\"Open In Colab\"/></a>"
      ]
    },
    {
      "cell_type": "markdown",
      "metadata": {
        "id": "Qbv1KasoTUAT"
      },
      "source": [
        "#assignment 2"
      ]
    },
    {
      "cell_type": "code",
      "metadata": {
        "id": "Yz4jckCrVbMp"
      },
      "source": [
        " altitude =1900"
      ],
      "execution_count": 9,
      "outputs": []
    },
    {
      "cell_type": "code",
      "metadata": {
        "colab": {
          "base_uri": "https://localhost:8080/"
        },
        "id": "NXJbskqfTbOw",
        "outputId": "d21c0cf7-335f-475a-b1a8-086918d8e446"
      },
      "source": [
        "if altitude <= 1000:\n",
        " print (\"safe to land\")\n",
        "elif altitude > 1000 & altitude <= 5000:\n",
        " print (\"bring down to 1000\")\n",
        "elif altitude > 5000:\n",
        " print (\"go around \")\n",
        "else:\n",
        " print (\" try later\")"
      ],
      "execution_count": 14,
      "outputs": [
        {
          "output_type": "stream",
          "text": [
            "bring down to 1000\n"
          ],
          "name": "stdout"
        }
      ]
    }
  ]
}